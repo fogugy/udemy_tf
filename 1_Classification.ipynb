{
 "cells": [
  {
   "cell_type": "code",
   "execution_count": 1,
   "metadata": {},
   "outputs": [
    {
     "name": "stderr",
     "output_type": "stream",
     "text": [
      "/usr/local/lib/python3.6/site-packages/pandas/compat/__init__.py:117: UserWarning: Could not import the lzma module. Your installed Python is incomplete. Attempting to use lzma compression will result in a RuntimeError.\n",
      "  warnings.warn(msg)\n"
     ]
    }
   ],
   "source": [
    "import numpy as np\n",
    "import pandas as pd\n",
    "import sklearn\n",
    "import matplotlib.pyplot as plt\n",
    "import tensorflow as tf"
   ]
  },
  {
   "cell_type": "code",
   "execution_count": 2,
   "metadata": {},
   "outputs": [],
   "source": [
    "from sklearn.datasets import load_breast_cancer"
   ]
  },
  {
   "cell_type": "code",
   "execution_count": 3,
   "metadata": {},
   "outputs": [],
   "source": [
    "data = load_breast_cancer()"
   ]
  },
  {
   "cell_type": "code",
   "execution_count": 4,
   "metadata": {},
   "outputs": [
    {
     "data": {
      "text/plain": [
       "array(['mean radius', 'mean texture', 'mean perimeter', 'mean area',\n",
       "       'mean smoothness', 'mean compactness', 'mean concavity',\n",
       "       'mean concave points', 'mean symmetry', 'mean fractal dimension',\n",
       "       'radius error', 'texture error', 'perimeter error', 'area error',\n",
       "       'smoothness error', 'compactness error', 'concavity error',\n",
       "       'concave points error', 'symmetry error',\n",
       "       'fractal dimension error', 'worst radius', 'worst texture',\n",
       "       'worst perimeter', 'worst area', 'worst smoothness',\n",
       "       'worst compactness', 'worst concavity', 'worst concave points',\n",
       "       'worst symmetry', 'worst fractal dimension'], dtype='<U23')"
      ]
     },
     "execution_count": 4,
     "metadata": {},
     "output_type": "execute_result"
    }
   ],
   "source": [
    "data.feature_names"
   ]
  },
  {
   "cell_type": "code",
   "execution_count": 5,
   "metadata": {},
   "outputs": [
    {
     "data": {
      "text/plain": [
       "array([0, 1])"
      ]
     },
     "execution_count": 5,
     "metadata": {},
     "output_type": "execute_result"
    }
   ],
   "source": [
    "np.unique(data.target)"
   ]
  },
  {
   "cell_type": "code",
   "execution_count": 6,
   "metadata": {},
   "outputs": [],
   "source": [
    "from sklearn.model_selection import train_test_split"
   ]
  },
  {
   "cell_type": "code",
   "execution_count": 7,
   "metadata": {},
   "outputs": [],
   "source": [
    "X_train, X_test, y_train, y_test = train_test_split(data.data, data.target, test_size=0.3)"
   ]
  },
  {
   "cell_type": "code",
   "execution_count": 8,
   "metadata": {},
   "outputs": [],
   "source": [
    "from sklearn.preprocessing import StandardScaler"
   ]
  },
  {
   "cell_type": "code",
   "execution_count": 9,
   "metadata": {},
   "outputs": [],
   "source": [
    "scaller = StandardScaler()"
   ]
  },
  {
   "cell_type": "code",
   "execution_count": 10,
   "metadata": {},
   "outputs": [],
   "source": [
    "X_train = scaller.fit_transform(X_train)\n",
    "X_test = scaller.transform(X_test)"
   ]
  },
  {
   "cell_type": "markdown",
   "metadata": {},
   "source": [
    "### Model"
   ]
  },
  {
   "cell_type": "code",
   "execution_count": 11,
   "metadata": {},
   "outputs": [
    {
     "data": {
      "text/plain": [
       "(569, 30)"
      ]
     },
     "execution_count": 11,
     "metadata": {},
     "output_type": "execute_result"
    }
   ],
   "source": [
    "data.data.shape"
   ]
  },
  {
   "cell_type": "code",
   "execution_count": 13,
   "metadata": {},
   "outputs": [],
   "source": [
    "model = tf.keras.models.Sequential([\n",
    "    tf.keras.layers.Input(shape=(data.data.shape[1],)),\n",
    "    tf.keras.layers.Dense(100, activation='relu'),\n",
    "    tf.keras.layers.Dense(1, activation='relu')\n",
    "])"
   ]
  },
  {
   "cell_type": "code",
   "execution_count": 14,
   "metadata": {},
   "outputs": [],
   "source": [
    "model.compile(optimizer='adam',\n",
    "              loss='binary_crossentropy',\n",
    "              metrics=['accuracy'])"
   ]
  },
  {
   "cell_type": "code",
   "execution_count": 15,
   "metadata": {
    "scrolled": true
   },
   "outputs": [
    {
     "name": "stdout",
     "output_type": "stream",
     "text": [
      "Epoch 1/100\n",
      "13/13 [==============================] - 0s 16ms/step - loss: 5.2275 - accuracy: 0.4673 - val_loss: 1.2563 - val_accuracy: 0.6959\n",
      "Epoch 2/100\n",
      "13/13 [==============================] - 0s 4ms/step - loss: 0.9561 - accuracy: 0.8141 - val_loss: 0.5267 - val_accuracy: 0.8947\n",
      "Epoch 3/100\n",
      "13/13 [==============================] - 0s 4ms/step - loss: 0.4705 - accuracy: 0.8894 - val_loss: 0.4697 - val_accuracy: 0.9415\n",
      "Epoch 4/100\n",
      "13/13 [==============================] - 0s 4ms/step - loss: 0.3254 - accuracy: 0.9221 - val_loss: 0.2753 - val_accuracy: 0.9474\n",
      "Epoch 5/100\n",
      "13/13 [==============================] - 0s 4ms/step - loss: 0.1972 - accuracy: 0.9347 - val_loss: 0.2684 - val_accuracy: 0.9591\n",
      "Epoch 6/100\n",
      "13/13 [==============================] - 0s 4ms/step - loss: 0.1798 - accuracy: 0.9397 - val_loss: 0.2631 - val_accuracy: 0.9591\n",
      "Epoch 7/100\n",
      "13/13 [==============================] - 0s 4ms/step - loss: 0.1695 - accuracy: 0.9397 - val_loss: 0.2566 - val_accuracy: 0.9649\n",
      "Epoch 8/100\n",
      "13/13 [==============================] - 0s 4ms/step - loss: 0.1609 - accuracy: 0.9497 - val_loss: 0.2517 - val_accuracy: 0.9649\n",
      "Epoch 9/100\n",
      "13/13 [==============================] - 0s 4ms/step - loss: 0.1550 - accuracy: 0.9523 - val_loss: 0.2488 - val_accuracy: 0.9708\n",
      "Epoch 10/100\n",
      "13/13 [==============================] - 0s 5ms/step - loss: 0.1504 - accuracy: 0.9523 - val_loss: 0.2454 - val_accuracy: 0.9708\n",
      "Epoch 11/100\n",
      "13/13 [==============================] - 0s 4ms/step - loss: 0.1463 - accuracy: 0.9548 - val_loss: 0.2414 - val_accuracy: 0.9708\n",
      "Epoch 12/100\n",
      "13/13 [==============================] - 0s 4ms/step - loss: 0.1428 - accuracy: 0.9623 - val_loss: 0.1698 - val_accuracy: 0.9708\n",
      "Epoch 13/100\n",
      "13/13 [==============================] - 0s 4ms/step - loss: 0.1399 - accuracy: 0.9648 - val_loss: 0.1673 - val_accuracy: 0.9708\n",
      "Epoch 14/100\n",
      "13/13 [==============================] - 0s 3ms/step - loss: 0.1369 - accuracy: 0.9698 - val_loss: 0.1613 - val_accuracy: 0.9708\n",
      "Epoch 15/100\n",
      "13/13 [==============================] - 0s 4ms/step - loss: 0.1342 - accuracy: 0.9724 - val_loss: 0.1613 - val_accuracy: 0.9708\n",
      "Epoch 16/100\n",
      "13/13 [==============================] - 0s 4ms/step - loss: 0.1311 - accuracy: 0.9724 - val_loss: 0.1529 - val_accuracy: 0.9708\n",
      "Epoch 17/100\n",
      "13/13 [==============================] - 0s 4ms/step - loss: 0.1289 - accuracy: 0.9774 - val_loss: 0.1490 - val_accuracy: 0.9708\n",
      "Epoch 18/100\n",
      "13/13 [==============================] - 0s 4ms/step - loss: 0.1262 - accuracy: 0.9774 - val_loss: 0.1468 - val_accuracy: 0.9708\n",
      "Epoch 19/100\n",
      "13/13 [==============================] - 0s 4ms/step - loss: 0.1241 - accuracy: 0.9799 - val_loss: 0.1451 - val_accuracy: 0.9708\n",
      "Epoch 20/100\n",
      "13/13 [==============================] - 0s 5ms/step - loss: 0.1221 - accuracy: 0.9824 - val_loss: 0.1429 - val_accuracy: 0.9708\n",
      "Epoch 21/100\n",
      "13/13 [==============================] - 0s 4ms/step - loss: 0.1200 - accuracy: 0.9824 - val_loss: 0.1415 - val_accuracy: 0.9708\n",
      "Epoch 22/100\n",
      "13/13 [==============================] - 0s 4ms/step - loss: 0.1183 - accuracy: 0.9824 - val_loss: 0.1399 - val_accuracy: 0.9708\n",
      "Epoch 23/100\n",
      "13/13 [==============================] - 0s 4ms/step - loss: 0.1168 - accuracy: 0.9824 - val_loss: 0.1384 - val_accuracy: 0.9708\n",
      "Epoch 24/100\n",
      "13/13 [==============================] - 0s 4ms/step - loss: 0.1152 - accuracy: 0.9824 - val_loss: 0.1378 - val_accuracy: 0.9708\n",
      "Epoch 25/100\n",
      "13/13 [==============================] - 0s 4ms/step - loss: 0.1137 - accuracy: 0.9824 - val_loss: 0.1372 - val_accuracy: 0.9708\n",
      "Epoch 26/100\n",
      "13/13 [==============================] - 0s 4ms/step - loss: 0.1126 - accuracy: 0.9824 - val_loss: 0.1361 - val_accuracy: 0.9708\n",
      "Epoch 27/100\n",
      "13/13 [==============================] - 0s 4ms/step - loss: 0.1109 - accuracy: 0.9824 - val_loss: 0.1346 - val_accuracy: 0.9708\n",
      "Epoch 28/100\n",
      "13/13 [==============================] - 0s 4ms/step - loss: 0.1098 - accuracy: 0.9824 - val_loss: 0.1339 - val_accuracy: 0.9708\n",
      "Epoch 29/100\n",
      "13/13 [==============================] - 0s 4ms/step - loss: 0.1083 - accuracy: 0.9849 - val_loss: 0.1329 - val_accuracy: 0.9708\n",
      "Epoch 30/100\n",
      "13/13 [==============================] - 0s 4ms/step - loss: 0.1072 - accuracy: 0.9849 - val_loss: 0.1311 - val_accuracy: 0.9708\n",
      "Epoch 31/100\n",
      "13/13 [==============================] - 0s 4ms/step - loss: 0.1057 - accuracy: 0.9849 - val_loss: 0.1314 - val_accuracy: 0.9766\n",
      "Epoch 32/100\n",
      "13/13 [==============================] - 0s 4ms/step - loss: 0.1050 - accuracy: 0.9849 - val_loss: 0.1326 - val_accuracy: 0.9766\n",
      "Epoch 33/100\n",
      "13/13 [==============================] - 0s 3ms/step - loss: 0.1039 - accuracy: 0.9849 - val_loss: 0.1299 - val_accuracy: 0.9766\n",
      "Epoch 34/100\n",
      "13/13 [==============================] - 0s 4ms/step - loss: 0.1027 - accuracy: 0.9849 - val_loss: 0.1296 - val_accuracy: 0.9766\n",
      "Epoch 35/100\n",
      "13/13 [==============================] - 0s 4ms/step - loss: 0.1020 - accuracy: 0.9849 - val_loss: 0.1303 - val_accuracy: 0.9766\n",
      "Epoch 36/100\n",
      "13/13 [==============================] - 0s 4ms/step - loss: 0.1013 - accuracy: 0.9849 - val_loss: 0.1310 - val_accuracy: 0.9766\n",
      "Epoch 37/100\n",
      "13/13 [==============================] - 0s 4ms/step - loss: 0.1000 - accuracy: 0.9849 - val_loss: 0.1283 - val_accuracy: 0.9766\n",
      "Epoch 38/100\n",
      "13/13 [==============================] - 0s 4ms/step - loss: 0.0995 - accuracy: 0.9849 - val_loss: 0.1291 - val_accuracy: 0.9766\n",
      "Epoch 39/100\n",
      "13/13 [==============================] - 0s 4ms/step - loss: 0.0987 - accuracy: 0.9849 - val_loss: 0.1302 - val_accuracy: 0.9766\n",
      "Epoch 40/100\n",
      "13/13 [==============================] - 0s 4ms/step - loss: 0.0979 - accuracy: 0.9899 - val_loss: 0.1312 - val_accuracy: 0.9766\n",
      "Epoch 41/100\n",
      "13/13 [==============================] - 0s 4ms/step - loss: 0.0974 - accuracy: 0.9874 - val_loss: 0.1332 - val_accuracy: 0.9766\n",
      "Epoch 42/100\n",
      "13/13 [==============================] - 0s 4ms/step - loss: 0.0967 - accuracy: 0.9899 - val_loss: 0.1318 - val_accuracy: 0.9766\n",
      "Epoch 43/100\n",
      "13/13 [==============================] - 0s 4ms/step - loss: 0.0964 - accuracy: 0.9899 - val_loss: 0.1534 - val_accuracy: 0.9766\n",
      "Epoch 44/100\n",
      "13/13 [==============================] - 0s 4ms/step - loss: 0.0957 - accuracy: 0.9899 - val_loss: 0.1414 - val_accuracy: 0.9766\n",
      "Epoch 45/100\n",
      "13/13 [==============================] - 0s 4ms/step - loss: 0.0950 - accuracy: 0.9899 - val_loss: 0.1994 - val_accuracy: 0.9766\n",
      "Epoch 46/100\n",
      "13/13 [==============================] - 0s 4ms/step - loss: 0.0944 - accuracy: 0.9899 - val_loss: 0.1993 - val_accuracy: 0.9766\n",
      "Epoch 47/100\n",
      "13/13 [==============================] - 0s 4ms/step - loss: 0.0939 - accuracy: 0.9899 - val_loss: 0.1989 - val_accuracy: 0.9766\n",
      "Epoch 48/100\n",
      "13/13 [==============================] - 0s 4ms/step - loss: 0.0934 - accuracy: 0.9899 - val_loss: 0.1986 - val_accuracy: 0.9766\n",
      "Epoch 49/100\n",
      "13/13 [==============================] - 0s 4ms/step - loss: 0.0931 - accuracy: 0.9899 - val_loss: 0.1358 - val_accuracy: 0.9766\n",
      "Epoch 50/100\n",
      "13/13 [==============================] - 0s 4ms/step - loss: 0.0926 - accuracy: 0.9899 - val_loss: 0.1981 - val_accuracy: 0.9766\n",
      "Epoch 51/100\n",
      "13/13 [==============================] - 0s 4ms/step - loss: 0.0921 - accuracy: 0.9899 - val_loss: 0.1982 - val_accuracy: 0.9766\n",
      "Epoch 52/100\n",
      "13/13 [==============================] - 0s 4ms/step - loss: 0.0917 - accuracy: 0.9899 - val_loss: 0.1977 - val_accuracy: 0.9766\n",
      "Epoch 53/100\n",
      "13/13 [==============================] - 0s 4ms/step - loss: 0.0914 - accuracy: 0.9899 - val_loss: 0.1297 - val_accuracy: 0.9766\n",
      "Epoch 54/100\n",
      "13/13 [==============================] - 0s 4ms/step - loss: 0.0913 - accuracy: 0.9899 - val_loss: 0.1306 - val_accuracy: 0.9825\n",
      "Epoch 55/100\n",
      "13/13 [==============================] - 0s 4ms/step - loss: 0.0907 - accuracy: 0.9899 - val_loss: 0.1276 - val_accuracy: 0.9825\n",
      "Epoch 56/100\n",
      "13/13 [==============================] - 0s 4ms/step - loss: 0.0904 - accuracy: 0.9899 - val_loss: 0.1264 - val_accuracy: 0.9825\n",
      "Epoch 57/100\n",
      "13/13 [==============================] - 0s 4ms/step - loss: 0.0899 - accuracy: 0.9899 - val_loss: 0.1267 - val_accuracy: 0.9825\n",
      "Epoch 58/100\n",
      "13/13 [==============================] - 0s 4ms/step - loss: 0.0896 - accuracy: 0.9899 - val_loss: 0.1258 - val_accuracy: 0.9825\n"
     ]
    },
    {
     "name": "stdout",
     "output_type": "stream",
     "text": [
      "Epoch 59/100\n",
      "13/13 [==============================] - 0s 4ms/step - loss: 0.0893 - accuracy: 0.9899 - val_loss: 0.1255 - val_accuracy: 0.9825\n",
      "Epoch 60/100\n",
      "13/13 [==============================] - 0s 4ms/step - loss: 0.0891 - accuracy: 0.9925 - val_loss: 0.1274 - val_accuracy: 0.9825\n",
      "Epoch 61/100\n",
      "13/13 [==============================] - 0s 4ms/step - loss: 0.0889 - accuracy: 0.9925 - val_loss: 0.1263 - val_accuracy: 0.9825\n",
      "Epoch 62/100\n",
      "13/13 [==============================] - 0s 4ms/step - loss: 0.0887 - accuracy: 0.9925 - val_loss: 0.1230 - val_accuracy: 0.9825\n",
      "Epoch 63/100\n",
      "13/13 [==============================] - 0s 4ms/step - loss: 0.0882 - accuracy: 0.9925 - val_loss: 0.1213 - val_accuracy: 0.9825\n",
      "Epoch 64/100\n",
      "13/13 [==============================] - 0s 4ms/step - loss: 0.0881 - accuracy: 0.9925 - val_loss: 0.1212 - val_accuracy: 0.9825\n",
      "Epoch 65/100\n",
      "13/13 [==============================] - 0s 4ms/step - loss: 0.0876 - accuracy: 0.9925 - val_loss: 0.1204 - val_accuracy: 0.9825\n",
      "Epoch 66/100\n",
      "13/13 [==============================] - 0s 4ms/step - loss: 0.0875 - accuracy: 0.9925 - val_loss: 0.1202 - val_accuracy: 0.9825\n",
      "Epoch 67/100\n",
      "13/13 [==============================] - 0s 4ms/step - loss: 0.0875 - accuracy: 0.9925 - val_loss: 0.1197 - val_accuracy: 0.9825\n",
      "Epoch 68/100\n",
      "13/13 [==============================] - 0s 4ms/step - loss: 0.0871 - accuracy: 0.9925 - val_loss: 0.1204 - val_accuracy: 0.9825\n",
      "Epoch 69/100\n",
      "13/13 [==============================] - 0s 4ms/step - loss: 0.0867 - accuracy: 0.9925 - val_loss: 0.1168 - val_accuracy: 0.9825\n",
      "Epoch 70/100\n",
      "13/13 [==============================] - 0s 4ms/step - loss: 0.0865 - accuracy: 0.9925 - val_loss: 0.1173 - val_accuracy: 0.9825\n",
      "Epoch 71/100\n",
      "13/13 [==============================] - 0s 4ms/step - loss: 0.0863 - accuracy: 0.9925 - val_loss: 0.1170 - val_accuracy: 0.9825\n",
      "Epoch 72/100\n",
      "13/13 [==============================] - 0s 4ms/step - loss: 0.0858 - accuracy: 0.9925 - val_loss: 0.1174 - val_accuracy: 0.9825\n",
      "Epoch 73/100\n",
      "13/13 [==============================] - 0s 4ms/step - loss: 0.0856 - accuracy: 0.9925 - val_loss: 0.1169 - val_accuracy: 0.9825\n",
      "Epoch 74/100\n",
      "13/13 [==============================] - 0s 4ms/step - loss: 0.0854 - accuracy: 0.9925 - val_loss: 0.1157 - val_accuracy: 0.9825\n",
      "Epoch 75/100\n",
      "13/13 [==============================] - 0s 4ms/step - loss: 0.0851 - accuracy: 0.9925 - val_loss: 0.1163 - val_accuracy: 0.9825\n",
      "Epoch 76/100\n",
      "13/13 [==============================] - 0s 4ms/step - loss: 0.0849 - accuracy: 0.9925 - val_loss: 0.1161 - val_accuracy: 0.9825\n",
      "Epoch 77/100\n",
      "13/13 [==============================] - 0s 4ms/step - loss: 0.0847 - accuracy: 0.9925 - val_loss: 0.1159 - val_accuracy: 0.9883\n",
      "Epoch 78/100\n",
      "13/13 [==============================] - 0s 4ms/step - loss: 0.0849 - accuracy: 0.9925 - val_loss: 0.1130 - val_accuracy: 0.9883\n",
      "Epoch 79/100\n",
      "13/13 [==============================] - 0s 4ms/step - loss: 0.0842 - accuracy: 0.9925 - val_loss: 0.1133 - val_accuracy: 0.9883\n",
      "Epoch 80/100\n",
      "13/13 [==============================] - 0s 4ms/step - loss: 0.0841 - accuracy: 0.9950 - val_loss: 0.1145 - val_accuracy: 0.9883\n",
      "Epoch 81/100\n",
      "13/13 [==============================] - 0s 4ms/step - loss: 0.0839 - accuracy: 0.9950 - val_loss: 0.1146 - val_accuracy: 0.9883\n",
      "Epoch 82/100\n",
      "13/13 [==============================] - 0s 4ms/step - loss: 0.0838 - accuracy: 0.9950 - val_loss: 0.1142 - val_accuracy: 0.9883\n",
      "Epoch 83/100\n",
      "13/13 [==============================] - 0s 4ms/step - loss: 0.0835 - accuracy: 0.9950 - val_loss: 0.1139 - val_accuracy: 0.9883\n",
      "Epoch 84/100\n",
      "13/13 [==============================] - 0s 4ms/step - loss: 0.0833 - accuracy: 0.9950 - val_loss: 0.1133 - val_accuracy: 0.9883\n",
      "Epoch 85/100\n",
      "13/13 [==============================] - 0s 5ms/step - loss: 0.0832 - accuracy: 0.9950 - val_loss: 0.1132 - val_accuracy: 0.9883\n",
      "Epoch 86/100\n",
      "13/13 [==============================] - 0s 4ms/step - loss: 0.0829 - accuracy: 0.9950 - val_loss: 0.1130 - val_accuracy: 0.9883\n",
      "Epoch 87/100\n",
      "13/13 [==============================] - 0s 4ms/step - loss: 0.0827 - accuracy: 0.9950 - val_loss: 0.1131 - val_accuracy: 0.9883\n",
      "Epoch 88/100\n",
      "13/13 [==============================] - 0s 4ms/step - loss: 0.0826 - accuracy: 0.9950 - val_loss: 0.1125 - val_accuracy: 0.9883\n",
      "Epoch 89/100\n",
      "13/13 [==============================] - 0s 4ms/step - loss: 0.0824 - accuracy: 0.9950 - val_loss: 0.1129 - val_accuracy: 0.9825\n",
      "Epoch 90/100\n",
      "13/13 [==============================] - 0s 4ms/step - loss: 0.0823 - accuracy: 0.9950 - val_loss: 0.1135 - val_accuracy: 0.9825\n",
      "Epoch 91/100\n",
      "13/13 [==============================] - 0s 4ms/step - loss: 0.0821 - accuracy: 0.9950 - val_loss: 0.1129 - val_accuracy: 0.9825\n",
      "Epoch 92/100\n",
      "13/13 [==============================] - 0s 4ms/step - loss: 0.0821 - accuracy: 0.9950 - val_loss: 0.1118 - val_accuracy: 0.9883\n",
      "Epoch 93/100\n",
      "13/13 [==============================] - 0s 4ms/step - loss: 0.0821 - accuracy: 0.9950 - val_loss: 0.1139 - val_accuracy: 0.9825\n",
      "Epoch 94/100\n",
      "13/13 [==============================] - 0s 4ms/step - loss: 0.0819 - accuracy: 0.9950 - val_loss: 0.1132 - val_accuracy: 0.9825\n",
      "Epoch 95/100\n",
      "13/13 [==============================] - 0s 4ms/step - loss: 0.0817 - accuracy: 0.9950 - val_loss: 0.1124 - val_accuracy: 0.9825\n",
      "Epoch 96/100\n",
      "13/13 [==============================] - 0s 4ms/step - loss: 0.0815 - accuracy: 0.9950 - val_loss: 0.1124 - val_accuracy: 0.9825\n",
      "Epoch 97/100\n",
      "13/13 [==============================] - 0s 3ms/step - loss: 0.0815 - accuracy: 0.9950 - val_loss: 0.1134 - val_accuracy: 0.9825\n",
      "Epoch 98/100\n",
      "13/13 [==============================] - 0s 4ms/step - loss: 0.0813 - accuracy: 0.9950 - val_loss: 0.1130 - val_accuracy: 0.9825\n",
      "Epoch 99/100\n",
      "13/13 [==============================] - 0s 4ms/step - loss: 0.0812 - accuracy: 0.9950 - val_loss: 0.1123 - val_accuracy: 0.9825\n",
      "Epoch 100/100\n",
      "13/13 [==============================] - 0s 4ms/step - loss: 0.0810 - accuracy: 0.9950 - val_loss: 0.1123 - val_accuracy: 0.9825\n"
     ]
    }
   ],
   "source": [
    "r = model.fit(X_train, y_train, validation_data=(X_test, y_test), epochs=100)"
   ]
  },
  {
   "cell_type": "code",
   "execution_count": 16,
   "metadata": {},
   "outputs": [
    {
     "name": "stdout",
     "output_type": "stream",
     "text": [
      "13/13 [==============================] - 0s 1ms/step - loss: 0.0808 - accuracy: 0.9950\n",
      "train score [0.0808371752500534, 0.9949748516082764]\n",
      "6/6 [==============================] - 0s 2ms/step - loss: 0.1123 - accuracy: 0.9825\n",
      "test score [0.11229147017002106, 0.9824561476707458]\n"
     ]
    }
   ],
   "source": [
    "print('train score', model.evaluate(X_train, y_train))\n",
    "print('test score', model.evaluate(X_test, y_test))"
   ]
  },
  {
   "cell_type": "code",
   "execution_count": 17,
   "metadata": {},
   "outputs": [
    {
     "data": {
      "image/png": "[encoded data removed]",
      "text/plain": [
       "<Figure size 432x288 with 1 Axes>"
      ]
     },
     "metadata": {
      "needs_background": "light"
     },
     "output_type": "display_data"
    }
   ],
   "source": [
    "plt.plot(r.history['loss'], label='loss')\n",
    "plt.plot(r.history['val_loss'], label='val_loss')\n",
    "plt.legend();"
   ]
  },
  {
   "cell_type": "code",
   "execution_count": 18,
   "metadata": {},
   "outputs": [
    {
     "data": {
      "image/png": "[encoded data removed]",
      "text/plain": [
       "<Figure size 432x288 with 1 Axes>"
      ]
     },
     "metadata": {
      "needs_background": "light"
     },
     "output_type": "display_data"
    }
   ],
   "source": [
    "plt.plot(r.history['accuracy'], label='accuracy')\n",
    "plt.plot(r.history['val_accuracy'], label='val_accuracy')\n",
    "plt.legend();"
   ]
  },
  {
   "cell_type": "code",
   "execution_count": null,
   "metadata": {},
   "outputs": [],
   "source": []
  }
 ],
 "metadata": {
  "kernelspec": {
   "display_name": "Python 3",
   "language": "python",
   "name": "python3"
  },
  "language_info": {
   "codemirror_mode": {
    "name": "ipython",
    "version": 3
   },
   "file_extension": ".py",
   "mimetype": "text/x-python",
   "name": "python",
   "nbconvert_exporter": "python",
   "pygments_lexer": "ipython3",
   "version": "3.6.3"
  }
 },
 "nbformat": 4,
 "nbformat_minor": 4
}
