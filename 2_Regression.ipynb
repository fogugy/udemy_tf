{
 "cells": [
  {
   "cell_type": "code",
   "execution_count": 1,
   "metadata": {},
   "outputs": [
    {
     "name": "stderr",
     "output_type": "stream",
     "text": [
      "/usr/local/lib/python3.6/site-packages/pandas/compat/__init__.py:117: UserWarning: Could not import the lzma module. Your installed Python is incomplete. Attempting to use lzma compression will result in a RuntimeError.\n",
      "  warnings.warn(msg)\n"
     ]
    }
   ],
   "source": [
    "import numpy as np\n",
    "import pandas as pd\n",
    "import sklearn\n",
    "import matplotlib.pyplot as plt\n",
    "import tensorflow as tf"
   ]
  },
  {
   "cell_type": "code",
   "execution_count": 2,
   "metadata": {},
   "outputs": [
    {
     "name": "stdout",
     "output_type": "stream",
     "text": [
      "--2020-07-07 11:04:17--  https://raw.githubusercontent.com/lazyprogrammer/machine_learning_examples/master/tf2.0/moore.csv\n",
      "Resolving raw.githubusercontent.com (raw.githubusercontent.com)... 151.101.36.133, 151.101.36.133\n",
      "Connecting to raw.githubusercontent.com (raw.githubusercontent.com)|151.101.36.133|:443... connected.\n",
      "HTTP request sent, awaiting response... 200 OK\n",
      "Length: 2302 (2.2K) [text/plain]\n",
      "Saving to: 'moore.csv.1'\n",
      "\n",
      "moore.csv.1         100%[===================>]   2.25K  --.-KB/s    in 0.001s  \n",
      "\n",
      "2020-07-07 11:04:18 (2.39 MB/s) - 'moore.csv.1' saved [2302/2302]\n",
      "\n"
     ]
    }
   ],
   "source": [
    "!wget https://raw.githubusercontent.com/lazyprogrammer/machine_learning_examples/master/tf2.0/moore.csv"
   ]
  },
  {
   "cell_type": "code",
   "execution_count": 3,
   "metadata": {},
   "outputs": [],
   "source": [
    "data = pd.read_csv('moore.csv', header=None).values"
   ]
  },
  {
   "cell_type": "code",
   "execution_count": 4,
   "metadata": {},
   "outputs": [],
   "source": [
    "X = data[:, 0].reshape(-1, 1)\n",
    "Y = data[:, 1]"
   ]
  },
  {
   "cell_type": "code",
   "execution_count": 5,
   "metadata": {},
   "outputs": [
    {
     "data": {
      "image/png": "[encoded data removed]",
      "text/plain": [
       "<Figure size 432x288 with 1 Axes>"
      ]
     },
     "metadata": {
      "needs_background": "light"
     },
     "output_type": "display_data"
    }
   ],
   "source": [
    "plt.scatter(X, Y);"
   ]
  },
  {
   "cell_type": "code",
   "execution_count": 6,
   "metadata": {},
   "outputs": [
    {
     "data": {
      "image/png": "[encoded data removed]",
      "text/plain": [
       "<Figure size 432x288 with 1 Axes>"
      ]
     },
     "metadata": {
      "needs_background": "light"
     },
     "output_type": "display_data"
    }
   ],
   "source": [
    "Y = np.log(Y)\n",
    "plt.scatter(X, Y);"
   ]
  },
  {
   "cell_type": "code",
   "execution_count": 7,
   "metadata": {},
   "outputs": [],
   "source": [
    "X = X - X.mean()"
   ]
  },
  {
   "cell_type": "code",
   "execution_count": 8,
   "metadata": {},
   "outputs": [
    {
     "data": {
      "image/png": "[encoded data removed]",
      "text/plain": [
       "<Figure size 432x288 with 1 Axes>"
      ]
     },
     "metadata": {
      "needs_background": "light"
     },
     "output_type": "display_data"
    }
   ],
   "source": [
    "plt.scatter(X, Y);"
   ]
  },
  {
   "cell_type": "markdown",
   "metadata": {},
   "source": [
    "### Model"
   ]
  },
  {
   "cell_type": "code",
   "execution_count": 15,
   "metadata": {},
   "outputs": [],
   "source": [
    "model = tf.keras.models.Sequential([\n",
    "    tf.keras.layers.Input(shape=[1,]),\n",
    "    tf.keras.layers.Dense(10),\n",
    "    tf.keras.layers.Dense(1)\n",
    "])"
   ]
  },
  {
   "cell_type": "code",
   "execution_count": 16,
   "metadata": {},
   "outputs": [],
   "source": [
    "model.compile(optimizer=tf.keras.optimizers.SGD(0.001, 0.9), loss='mse')"
   ]
  },
  {
   "cell_type": "code",
   "execution_count": 17,
   "metadata": {},
   "outputs": [],
   "source": [
    "def schedule(epoch, lr):\n",
    "    if epoch >= 50:\n",
    "        return 0.001\n",
    "    return 0.001"
   ]
  },
  {
   "cell_type": "code",
   "execution_count": 18,
   "metadata": {},
   "outputs": [],
   "source": [
    "scheduler = tf.keras.callbacks.LearningRateScheduler(schedule)"
   ]
  },
  {
   "cell_type": "code",
   "execution_count": 19,
   "metadata": {},
   "outputs": [
    {
     "name": "stdout",
     "output_type": "stream",
     "text": [
      "Epoch 1/100\n",
      "6/6 [==============================] - 0s 1ms/step - loss: 372.8788 - lr: 0.0010\n",
      "Epoch 2/100\n",
      "6/6 [==============================] - 0s 2ms/step - loss: 297.4212 - lr: 0.0010\n",
      "Epoch 3/100\n",
      "6/6 [==============================] - 0s 2ms/step - loss: 203.6518 - lr: 0.0010\n",
      "Epoch 4/100\n",
      "6/6 [==============================] - 0s 2ms/step - loss: 77.7381 - lr: 0.0010\n",
      "Epoch 5/100\n",
      "6/6 [==============================] - 0s 2ms/step - loss: 209.8330 - lr: 0.0010\n",
      "Epoch 6/100\n",
      "6/6 [==============================] - 0s 1ms/step - loss: 67.2433 - lr: 0.0010\n",
      "Epoch 7/100\n",
      "6/6 [==============================] - 0s 2ms/step - loss: 49.2308 - lr: 0.0010\n",
      "Epoch 8/100\n",
      "6/6 [==============================] - 0s 1ms/step - loss: 6.2032 - lr: 0.0010\n",
      "Epoch 9/100\n",
      "6/6 [==============================] - 0s 2ms/step - loss: 32.0475 - lr: 0.0010\n",
      "Epoch 10/100\n",
      "6/6 [==============================] - 0s 2ms/step - loss: 19.1836 - lr: 0.0010\n",
      "Epoch 11/100\n",
      "6/6 [==============================] - 0s 2ms/step - loss: 22.7841 - lr: 0.0010\n",
      "Epoch 12/100\n",
      "6/6 [==============================] - 0s 1ms/step - loss: 10.6224 - lr: 0.0010\n",
      "Epoch 13/100\n",
      "6/6 [==============================] - 0s 2ms/step - loss: 5.7965 - lr: 0.0010\n",
      "Epoch 14/100\n",
      "6/6 [==============================] - 0s 2ms/step - loss: 1.3699 - lr: 0.0010\n",
      "Epoch 15/100\n",
      "6/6 [==============================] - 0s 2ms/step - loss: 1.1191 - lr: 0.0010\n",
      "Epoch 16/100\n",
      "6/6 [==============================] - 0s 1ms/step - loss: 0.9605 - lr: 0.0010\n",
      "Epoch 17/100\n",
      "6/6 [==============================] - 0s 1ms/step - loss: 1.7328 - lr: 0.0010\n",
      "Epoch 18/100\n",
      "6/6 [==============================] - 0s 1ms/step - loss: 1.8701 - lr: 0.0010\n",
      "Epoch 19/100\n",
      "6/6 [==============================] - 0s 2ms/step - loss: 1.5239 - lr: 0.0010\n",
      "Epoch 20/100\n",
      "6/6 [==============================] - 0s 1ms/step - loss: 2.6437 - lr: 0.0010\n",
      "Epoch 21/100\n",
      "6/6 [==============================] - 0s 1ms/step - loss: 2.3293 - lr: 0.0010\n",
      "Epoch 22/100\n",
      "6/6 [==============================] - 0s 1ms/step - loss: 1.5111 - lr: 0.0010\n",
      "Epoch 23/100\n",
      "6/6 [==============================] - 0s 1ms/step - loss: 1.4408 - lr: 0.0010\n",
      "Epoch 24/100\n",
      "6/6 [==============================] - 0s 2ms/step - loss: 0.9800 - lr: 0.0010\n",
      "Epoch 25/100\n",
      "6/6 [==============================] - 0s 1ms/step - loss: 0.9530 - lr: 0.0010\n",
      "Epoch 26/100\n",
      "6/6 [==============================] - 0s 1ms/step - loss: 1.0975 - lr: 0.0010\n",
      "Epoch 27/100\n",
      "6/6 [==============================] - 0s 1ms/step - loss: 1.0198 - lr: 0.0010\n",
      "Epoch 28/100\n",
      "6/6 [==============================] - 0s 1ms/step - loss: 1.1428 - lr: 0.0010\n",
      "Epoch 29/100\n",
      "6/6 [==============================] - 0s 1ms/step - loss: 1.0791 - lr: 0.0010\n",
      "Epoch 30/100\n",
      "6/6 [==============================] - 0s 1ms/step - loss: 1.1835 - lr: 0.0010\n",
      "Epoch 31/100\n",
      "6/6 [==============================] - 0s 1ms/step - loss: 0.9960 - lr: 0.0010\n",
      "Epoch 32/100\n",
      "6/6 [==============================] - 0s 2ms/step - loss: 0.9070 - lr: 0.0010\n",
      "Epoch 33/100\n",
      "6/6 [==============================] - 0s 1ms/step - loss: 0.9123 - lr: 0.0010\n",
      "Epoch 34/100\n",
      "6/6 [==============================] - 0s 1ms/step - loss: 1.0959 - lr: 0.0010\n",
      "Epoch 35/100\n",
      "6/6 [==============================] - 0s 1ms/step - loss: 1.1773 - lr: 0.0010\n",
      "Epoch 36/100\n",
      "6/6 [==============================] - 0s 1ms/step - loss: 1.1112 - lr: 0.0010\n",
      "Epoch 37/100\n",
      "6/6 [==============================] - 0s 2ms/step - loss: 1.1775 - lr: 0.0010\n",
      "Epoch 38/100\n",
      "6/6 [==============================] - 0s 1ms/step - loss: 1.9845 - lr: 0.0010\n",
      "Epoch 39/100\n",
      "6/6 [==============================] - 0s 1ms/step - loss: 2.1445 - lr: 0.0010\n",
      "Epoch 40/100\n",
      "6/6 [==============================] - 0s 1ms/step - loss: 1.8602 - lr: 0.0010\n",
      "Epoch 41/100\n",
      "6/6 [==============================] - 0s 1ms/step - loss: 1.2309 - lr: 0.0010\n",
      "Epoch 42/100\n",
      "6/6 [==============================] - 0s 1ms/step - loss: 1.6669 - lr: 0.0010\n",
      "Epoch 43/100\n",
      "6/6 [==============================] - 0s 1ms/step - loss: 3.0308 - lr: 0.0010\n",
      "Epoch 44/100\n",
      "6/6 [==============================] - 0s 1ms/step - loss: 2.3556 - lr: 0.0010\n",
      "Epoch 45/100\n",
      "6/6 [==============================] - 0s 1ms/step - loss: 2.0835 - lr: 0.0010\n",
      "Epoch 46/100\n",
      "6/6 [==============================] - 0s 1ms/step - loss: 2.7731 - lr: 0.0010\n",
      "Epoch 47/100\n",
      "6/6 [==============================] - 0s 1ms/step - loss: 3.0217 - lr: 0.0010\n",
      "Epoch 48/100\n",
      "6/6 [==============================] - 0s 1ms/step - loss: 6.6642 - lr: 0.0010\n",
      "Epoch 49/100\n",
      "6/6 [==============================] - 0s 1ms/step - loss: 14.2459 - lr: 0.0010\n",
      "Epoch 50/100\n",
      "6/6 [==============================] - 0s 2ms/step - loss: 19.4378 - lr: 0.0010\n",
      "Epoch 51/100\n",
      "6/6 [==============================] - 0s 1ms/step - loss: 9.1562 - lr: 0.0010\n",
      "Epoch 52/100\n",
      "6/6 [==============================] - 0s 1ms/step - loss: 3.3391 - lr: 0.0010\n",
      "Epoch 53/100\n",
      "6/6 [==============================] - 0s 1ms/step - loss: 2.4732 - lr: 0.0010\n",
      "Epoch 54/100\n",
      "6/6 [==============================] - 0s 1ms/step - loss: 1.3129 - lr: 0.0010\n",
      "Epoch 55/100\n",
      "6/6 [==============================] - 0s 1ms/step - loss: 1.1988 - lr: 0.0010\n",
      "Epoch 56/100\n",
      "6/6 [==============================] - 0s 1ms/step - loss: 1.4298 - lr: 0.0010\n",
      "Epoch 57/100\n",
      "6/6 [==============================] - 0s 2ms/step - loss: 1.0737 - lr: 0.0010\n",
      "Epoch 58/100\n",
      "6/6 [==============================] - 0s 1ms/step - loss: 1.1956 - lr: 0.0010\n",
      "Epoch 59/100\n",
      "6/6 [==============================] - 0s 1ms/step - loss: 1.2098 - lr: 0.0010\n",
      "Epoch 60/100\n",
      "6/6 [==============================] - 0s 1ms/step - loss: 1.0264 - lr: 0.0010\n",
      "Epoch 61/100\n",
      "6/6 [==============================] - 0s 2ms/step - loss: 1.3668 - lr: 0.0010\n",
      "Epoch 62/100\n",
      "6/6 [==============================] - 0s 1ms/step - loss: 1.0994 - lr: 0.0010\n",
      "Epoch 63/100\n",
      "6/6 [==============================] - 0s 3ms/step - loss: 1.0158 - lr: 0.0010\n",
      "Epoch 64/100\n",
      "6/6 [==============================] - 0s 1ms/step - loss: 1.5911 - lr: 0.0010\n",
      "Epoch 65/100\n",
      "6/6 [==============================] - 0s 1ms/step - loss: 1.3237 - lr: 0.0010\n",
      "Epoch 66/100\n",
      "6/6 [==============================] - 0s 2ms/step - loss: 1.4740 - lr: 0.0010\n",
      "Epoch 67/100\n",
      "6/6 [==============================] - 0s 2ms/step - loss: 1.2893 - lr: 0.0010\n",
      "Epoch 68/100\n",
      "6/6 [==============================] - 0s 2ms/step - loss: 1.1635 - lr: 0.0010\n",
      "Epoch 69/100\n",
      "6/6 [==============================] - 0s 1ms/step - loss: 1.0841 - lr: 0.0010\n",
      "Epoch 70/100\n",
      "6/6 [==============================] - 0s 2ms/step - loss: 0.9263 - lr: 0.0010\n",
      "Epoch 71/100\n",
      "6/6 [==============================] - 0s 1ms/step - loss: 0.8960 - lr: 0.0010\n",
      "Epoch 72/100\n",
      "6/6 [==============================] - 0s 1ms/step - loss: 0.9077 - lr: 0.0010\n",
      "Epoch 73/100\n",
      "6/6 [==============================] - 0s 1ms/step - loss: 0.9431 - lr: 0.0010\n",
      "Epoch 74/100\n",
      "6/6 [==============================] - 0s 1ms/step - loss: 1.2090 - lr: 0.0010\n",
      "Epoch 75/100\n",
      "6/6 [==============================] - 0s 1ms/step - loss: 1.1361 - lr: 0.0010\n",
      "Epoch 76/100\n",
      "6/6 [==============================] - 0s 1ms/step - loss: 0.9642 - lr: 0.0010\n",
      "Epoch 77/100\n",
      "6/6 [==============================] - 0s 2ms/step - loss: 0.9782 - lr: 0.0010\n",
      "Epoch 78/100\n",
      "6/6 [==============================] - 0s 1ms/step - loss: 0.9079 - lr: 0.0010\n",
      "Epoch 79/100\n",
      "6/6 [==============================] - 0s 1ms/step - loss: 0.8790 - lr: 0.0010\n",
      "Epoch 80/100\n",
      "6/6 [==============================] - 0s 1ms/step - loss: 0.9348 - lr: 0.0010\n",
      "Epoch 81/100\n",
      "6/6 [==============================] - 0s 2ms/step - loss: 1.0207 - lr: 0.0010\n",
      "Epoch 82/100\n",
      "6/6 [==============================] - 0s 1ms/step - loss: 0.9166 - lr: 0.0010\n",
      "Epoch 83/100\n",
      "6/6 [==============================] - 0s 1ms/step - loss: 0.9394 - lr: 0.0010\n",
      "Epoch 84/100\n",
      "6/6 [==============================] - 0s 1ms/step - loss: 1.2555 - lr: 0.0010\n",
      "Epoch 85/100\n",
      "6/6 [==============================] - 0s 2ms/step - loss: 1.1320 - lr: 0.0010\n",
      "Epoch 86/100\n",
      "6/6 [==============================] - 0s 1ms/step - loss: 1.6556 - lr: 0.0010\n",
      "Epoch 87/100\n",
      "6/6 [==============================] - 0s 1ms/step - loss: 1.4687 - lr: 0.0010\n",
      "Epoch 88/100\n",
      "6/6 [==============================] - 0s 1ms/step - loss: 1.1831 - lr: 0.0010\n",
      "Epoch 89/100\n",
      "6/6 [==============================] - 0s 1ms/step - loss: 0.9659 - lr: 0.0010\n"
     ]
    },
    {
     "name": "stdout",
     "output_type": "stream",
     "text": [
      "Epoch 90/100\n",
      "6/6 [==============================] - 0s 1ms/step - loss: 1.1862 - lr: 0.0010\n",
      "Epoch 91/100\n",
      "6/6 [==============================] - 0s 1ms/step - loss: 0.9820 - lr: 0.0010\n",
      "Epoch 92/100\n",
      "6/6 [==============================] - 0s 1ms/step - loss: 0.9800 - lr: 0.0010\n",
      "Epoch 93/100\n",
      "6/6 [==============================] - 0s 1ms/step - loss: 1.0676 - lr: 0.0010\n",
      "Epoch 94/100\n",
      "6/6 [==============================] - 0s 1ms/step - loss: 1.2496 - lr: 0.0010\n",
      "Epoch 95/100\n",
      "6/6 [==============================] - 0s 1ms/step - loss: 1.3139 - lr: 0.0010\n",
      "Epoch 96/100\n",
      "6/6 [==============================] - 0s 1ms/step - loss: 1.3463 - lr: 0.0010\n",
      "Epoch 97/100\n",
      "6/6 [==============================] - 0s 1ms/step - loss: 1.3514 - lr: 0.0010\n",
      "Epoch 98/100\n",
      "6/6 [==============================] - 0s 2ms/step - loss: 1.0923 - lr: 0.0010\n",
      "Epoch 99/100\n",
      "6/6 [==============================] - 0s 2ms/step - loss: 1.0006 - lr: 0.0010\n",
      "Epoch 100/100\n",
      "6/6 [==============================] - 0s 2ms/step - loss: 0.9899 - lr: 0.0010\n"
     ]
    }
   ],
   "source": [
    "r = model.fit(X, Y, epochs=100, callbacks=[scheduler])"
   ]
  },
  {
   "cell_type": "code",
   "execution_count": 20,
   "metadata": {
    "scrolled": false
   },
   "outputs": [
    {
     "data": {
      "image/png": "[encoded data removed]",
      "text/plain": [
       "<Figure size 432x288 with 1 Axes>"
      ]
     },
     "metadata": {
      "needs_background": "light"
     },
     "output_type": "display_data"
    }
   ],
   "source": [
    "plt.plot(r.history['loss'], label='loss')\n",
    "plt.legend();"
   ]
  },
  {
   "cell_type": "code",
   "execution_count": null,
   "metadata": {},
   "outputs": [],
   "source": []
  }
 ],
 "metadata": {
  "kernelspec": {
   "display_name": "Python 3",
   "language": "python",
   "name": "python3"
  },
  "language_info": {
   "codemirror_mode": {
    "name": "ipython",
    "version": 3
   },
   "file_extension": ".py",
   "mimetype": "text/x-python",
   "name": "python",
   "nbconvert_exporter": "python",
   "pygments_lexer": "ipython3",
   "version": "3.6.3"
  }
 },
 "nbformat": 4,
 "nbformat_minor": 4
}
