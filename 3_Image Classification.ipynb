{
 "cells": [
  {
   "cell_type": "code",
   "execution_count": 1,
   "metadata": {},
   "outputs": [
    {
     "name": "stderr",
     "output_type": "stream",
     "text": [
      "/usr/local/lib/python3.6/site-packages/pandas/compat/__init__.py:117: UserWarning: Could not import the lzma module. Your installed Python is incomplete. Attempting to use lzma compression will result in a RuntimeError.\n",
      "  warnings.warn(msg)\n"
     ]
    }
   ],
   "source": [
    "import numpy as np\n",
    "import pandas as pd\n",
    "import tensorflow as tf\n",
    "import tensorflow.keras as kr\n",
    "\n",
    "from sklearn.model_selection import train_test_split\n",
    "import matplotlib.pyplot as plt"
   ]
  },
  {
   "cell_type": "code",
   "execution_count": 2,
   "metadata": {},
   "outputs": [],
   "source": [
    "mnist = kr.datasets.mnist"
   ]
  },
  {
   "cell_type": "code",
   "execution_count": 3,
   "metadata": {},
   "outputs": [],
   "source": [
    "(x_train, y_train), (x_test, y_test) = mnist.load_data()"
   ]
  },
  {
   "cell_type": "code",
   "execution_count": 4,
   "metadata": {},
   "outputs": [
    {
     "data": {
      "text/plain": [
       "(60000, 28, 28)"
      ]
     },
     "execution_count": 4,
     "metadata": {},
     "output_type": "execute_result"
    }
   ],
   "source": [
    "x_train.shape"
   ]
  },
  {
   "cell_type": "code",
   "execution_count": 5,
   "metadata": {},
   "outputs": [],
   "source": [
    "x_train = x_train/255.0\n",
    "x_test = x_test/255.0"
   ]
  },
  {
   "cell_type": "code",
   "execution_count": 6,
   "metadata": {},
   "outputs": [],
   "source": [
    "model = kr.models.Sequential([\n",
    "    kr.layers.Flatten(input_shape=(28, 28)),\n",
    "    kr.layers.Dense(120, activation='relu'),\n",
    "    kr.layers.Dropout(0.2),\n",
    "    kr.layers.Dense(10, activation='softmax')\n",
    "])"
   ]
  },
  {
   "cell_type": "code",
   "execution_count": 7,
   "metadata": {},
   "outputs": [],
   "source": [
    "model.compile(optimizer='adam',\n",
    "             loss='sparse_categorical_crossentropy',\n",
    "             metrics=['accuracy'])"
   ]
  },
  {
   "cell_type": "code",
   "execution_count": 33,
   "metadata": {},
   "outputs": [
    {
     "name": "stdout",
     "output_type": "stream",
     "text": [
      "Epoch 1/10\n",
      "1875/1875 [==============================] - 4s 2ms/step - loss: 0.0274 - accuracy: 0.9904 - val_loss: 0.0735 - val_accuracy: 0.9822\n",
      "Epoch 2/10\n",
      "1875/1875 [==============================] - 4s 2ms/step - loss: 0.0263 - accuracy: 0.9908 - val_loss: 0.0822 - val_accuracy: 0.9799\n",
      "Epoch 3/10\n",
      "1875/1875 [==============================] - 4s 2ms/step - loss: 0.0253 - accuracy: 0.9911 - val_loss: 0.0864 - val_accuracy: 0.9798\n",
      "Epoch 4/10\n",
      "1875/1875 [==============================] - 4s 2ms/step - loss: 0.0235 - accuracy: 0.9918 - val_loss: 0.0899 - val_accuracy: 0.9789\n",
      "Epoch 5/10\n",
      "1875/1875 [==============================] - 4s 2ms/step - loss: 0.0235 - accuracy: 0.9918 - val_loss: 0.0821 - val_accuracy: 0.9813\n",
      "Epoch 6/10\n",
      "1875/1875 [==============================] - 4s 2ms/step - loss: 0.0251 - accuracy: 0.9916 - val_loss: 0.0833 - val_accuracy: 0.9802\n",
      "Epoch 7/10\n",
      "1875/1875 [==============================] - 4s 2ms/step - loss: 0.0231 - accuracy: 0.9922 - val_loss: 0.0904 - val_accuracy: 0.9812\n",
      "Epoch 8/10\n",
      "1875/1875 [==============================] - 4s 2ms/step - loss: 0.0232 - accuracy: 0.9918 - val_loss: 0.0910 - val_accuracy: 0.9809\n",
      "Epoch 9/10\n",
      "1875/1875 [==============================] - 4s 2ms/step - loss: 0.0219 - accuracy: 0.9923 - val_loss: 0.0907 - val_accuracy: 0.9805\n",
      "Epoch 10/10\n",
      "1875/1875 [==============================] - 4s 2ms/step - loss: 0.0208 - accuracy: 0.9927 - val_loss: 0.1018 - val_accuracy: 0.9802\n"
     ]
    }
   ],
   "source": [
    "r = model.fit(x_train, y_train, validation_data=(x_test, y_test), epochs=10)"
   ]
  },
  {
   "cell_type": "code",
   "execution_count": 34,
   "metadata": {},
   "outputs": [
    {
     "data": {
      "image/png": "[encoded data removed]",
      "text/plain": [
       "<Figure size 432x288 with 1 Axes>"
      ]
     },
     "metadata": {
      "needs_background": "light"
     },
     "output_type": "display_data"
    }
   ],
   "source": [
    "plt.plot(r.history['loss'], label='loss')\n",
    "plt.legend();"
   ]
  },
  {
   "cell_type": "code",
   "execution_count": 35,
   "metadata": {},
   "outputs": [
    {
     "data": {
      "image/png": "[encoded data removed]",
      "text/plain": [
       "<Figure size 432x288 with 1 Axes>"
      ]
     },
     "metadata": {
      "needs_background": "light"
     },
     "output_type": "display_data"
    }
   ],
   "source": [
    "plt.plot(r.history['accuracy'], label='accuracy')\n",
    "plt.legend();"
   ]
  },
  {
   "cell_type": "code",
   "execution_count": 36,
   "metadata": {},
   "outputs": [
    {
     "name": "stdout",
     "output_type": "stream",
     "text": [
      "313/313 [==============================] - 0s 1ms/step - loss: 0.1018 - accuracy: 0.9802\n",
      "[0.1018274649977684, 0.9801999926567078]\n"
     ]
    }
   ],
   "source": [
    "print(model.evaluate(x_test, y_test))"
   ]
  },
  {
   "cell_type": "code",
   "execution_count": 37,
   "metadata": {},
   "outputs": [],
   "source": [
    "p_test = np.argmax(model.predict(x_test), axis=-1)"
   ]
  },
  {
   "cell_type": "code",
   "execution_count": 40,
   "metadata": {},
   "outputs": [
    {
     "data": {
      "text/plain": [
       "array([  18,  151,  247,  321,  340,  359,  381,  417,  445,  448,  543,\n",
       "        582,  691,  720,  947,  951,  956,  965, 1014, 1044, 1112, 1181,\n",
       "       1194, 1226, 1232, 1247, 1289, 1299, 1319, 1326, 1337, 1393, 1403,\n",
       "       1494, 1500, 1530, 1549, 1569, 1609, 1681, 1709, 1717, 1790, 1800,\n",
       "       1901, 1909, 2004, 2016, 2018, 2035, 2040, 2043, 2044, 2053, 2109,\n",
       "       2118, 2135, 2162, 2182, 2272, 2293, 2343, 2369, 2387, 2414, 2426,\n",
       "       2488, 2607, 2654, 2720, 2760, 2810, 2863, 2921, 2927, 2939, 2953,\n",
       "       2995, 3073, 3117, 3130, 3132, 3422, 3475, 3503, 3520, 3549, 3558,\n",
       "       3567, 3604, 3674, 3681, 3727, 3776, 3808, 3811, 3818, 3838, 3853,\n",
       "       3869, 3906, 3941, 3943, 3970, 3985, 4027, 4065, 4078, 4093, 4156,\n",
       "       4163, 4176, 4199, 4224, 4248, 4289, 4294, 4314, 4360, 4369, 4425,\n",
       "       4497, 4551, 4571, 4575, 4578, 4601, 4731, 4761, 4807, 4823, 4876,\n",
       "       4880, 4943, 5203, 5246, 5331, 5457, 5634, 5642, 5676, 5734, 5842,\n",
       "       5887, 5937, 5955, 5973, 5981, 5997, 6023, 6166, 6421, 6505, 6555,\n",
       "       6568, 6571, 6572, 6574, 6597, 6603, 6625, 6651, 6755, 6847, 7216,\n",
       "       7434, 7451, 7511, 7899, 7928, 8020, 8062, 8246, 8277, 8279, 8325,\n",
       "       8527, 9009, 9015, 9019, 9024, 9280, 9422, 9587, 9634, 9679, 9692,\n",
       "       9729, 9745, 9749, 9770, 9782, 9808, 9839, 9858, 9888, 9941, 9982])"
      ]
     },
     "execution_count": 40,
     "metadata": {},
     "output_type": "execute_result"
    }
   ],
   "source": [
    "fail_idxs = np.where(np.not_equal(p_test, y_test))[0]\n",
    "fail_idxs"
   ]
  },
  {
   "cell_type": "code",
   "execution_count": 65,
   "metadata": {},
   "outputs": [
    {
     "data": {
      "text/plain": [
       "Text(0.5, 1.0, 'true: 5, pred: 4')"
      ]
     },
     "execution_count": 65,
     "metadata": {},
     "output_type": "execute_result"
    },
    {
     "data": {
      "image/png": "[encoded data removed]",
      "text/plain": [
       "<Figure size 432x288 with 1 Axes>"
      ]
     },
     "metadata": {
      "needs_background": "light"
     },
     "output_type": "display_data"
    }
   ],
   "source": [
    "rind = np.random.choice(fail_idxs)\n",
    "plt.imshow(x_test[rind], cmap='gray')\n",
    "plt.title(\"true: %s, pred: %s\" % (y_test[rind], p_test[rind]))"
   ]
  }
 ],
 "metadata": {
  "kernelspec": {
   "display_name": "Python 3",
   "language": "python",
   "name": "python3"
  },
  "language_info": {
   "codemirror_mode": {
    "name": "ipython",
    "version": 3
   },
   "file_extension": ".py",
   "mimetype": "text/x-python",
   "name": "python",
   "nbconvert_exporter": "python",
   "pygments_lexer": "ipython3",
   "version": "3.6.3"
  }
 },
 "nbformat": 4,
 "nbformat_minor": 4
}
